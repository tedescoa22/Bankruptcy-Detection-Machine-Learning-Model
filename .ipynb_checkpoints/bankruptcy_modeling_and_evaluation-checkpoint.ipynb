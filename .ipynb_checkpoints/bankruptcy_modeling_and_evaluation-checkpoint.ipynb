{
 "cells": [
  {
   "cell_type": "code",
   "execution_count": 1,
   "metadata": {},
   "outputs": [],
   "source": [
    "import numpy as np\n",
    "import pandas as pd\n",
    "import matplotlib.pyplot as plt\n",
    "import seaborn as sns\n",
    "\n",
    "from sklearn.ensemble import RandomForestClassifier, ExtraTreesClassifier, BaggingClassifier, GradientBoostingClassifier\n",
    "from sklearn.model_selection import cross_val_score, train_test_split, GridSearchCV \n",
    "from sklearn.linear_model import LogisticRegression \n",
    "from sklearn import metrics\n",
    "from sklearn.preprocessing import StandardScaler\n",
    "from sklearn.tree import DecisionTreeClassifier\n",
    "from sklearn.neighbors import KNeighborsClassifier\n",
    "from sklearn.pipeline import Pipeline\n",
    "\n",
    "from tensorflow.keras.models import Sequential\n",
    "from tensorflow.keras.layers import Dense, Dropout\n",
    "from tensorflow.keras.wrappers.scikit_learn import KerasClassifier\n",
    "from imblearn.over_sampling import SMOTE"
   ]
  },
  {
   "cell_type": "code",
   "execution_count": 2,
   "metadata": {},
   "outputs": [],
   "source": [
    "# load in the data created in the cleaning and eda notebook\n",
    "taiwan = pd.read_csv('data/taiwan.csv')\n",
    "\n",
    "poland = pd.read_csv('data/poland.csv')"
   ]
  },
  {
   "cell_type": "code",
   "execution_count": 3,
   "metadata": {},
   "outputs": [],
   "source": [
    "# create X and y variables\n",
    "X_t = taiwan.drop(columns= ['Bankrupt?'])\n",
    "y_t = taiwan['Bankrupt?']\n",
    "\n",
    "X_p = poland.drop(columns= ['Bankrupt'])\n",
    "y_p = poland['Bankrupt']\n"
   ]
  },
  {
   "cell_type": "code",
   "execution_count": 4,
   "metadata": {},
   "outputs": [],
   "source": [
    "# train test split both sets of data\n",
    "X_t_train, X_t_test,y_t_train,y_t_test = train_test_split(X_t, y_t, stratify = y_t ,random_state = 9)\n",
    "\n",
    "X_p_train, X_p_test,y_p_train,y_p_test = train_test_split(X_p, y_p, stratify = y_p,random_state = 9)"
   ]
  },
  {
   "cell_type": "code",
   "execution_count": null,
   "metadata": {},
   "outputs": [],
   "source": []
  },
  {
   "cell_type": "code",
   "execution_count": 5,
   "metadata": {},
   "outputs": [],
   "source": [
    "# some MA models require the data to be standardized\n",
    "sc = StandardScaler()\n",
    "\n",
    "X_t_train_sc = sc.fit_transform(X_t_train)\n",
    "X_t_test_sc = sc.transform(X_t_test)\n",
    "\n",
    "X_p_train_sc = sc.fit_transform(X_p_train)\n",
    "X_p_test_sc = sc.transform(X_p_test)\n"
   ]
  },
  {
   "cell_type": "code",
   "execution_count": 6,
   "metadata": {},
   "outputs": [
    {
     "ename": "NameError",
     "evalue": "name 'pipe_xgb' is not defined",
     "output_type": "error",
     "traceback": [
      "\u001b[1;31m---------------------------------------------------------------------------\u001b[0m",
      "\u001b[1;31mNameError\u001b[0m                                 Traceback (most recent call last)",
      "\u001b[1;32m<ipython-input-6-f4ee8938a106>\u001b[0m in \u001b[0;36m<module>\u001b[1;34m\u001b[0m\n\u001b[0;32m    121\u001b[0m \u001b[0mgs_rf\u001b[0m\u001b[1;33m=\u001b[0m \u001b[0mGridSearchCV\u001b[0m\u001b[1;33m(\u001b[0m\u001b[0mpipe_rf\u001b[0m\u001b[1;33m,\u001b[0m \u001b[0mpipe_rf_params\u001b[0m\u001b[1;33m,\u001b[0m \u001b[0mcv\u001b[0m\u001b[1;33m=\u001b[0m\u001b[1;36m3\u001b[0m\u001b[1;33m,\u001b[0m \u001b[0mverbose\u001b[0m\u001b[1;33m=\u001b[0m\u001b[1;36m0\u001b[0m\u001b[1;33m)\u001b[0m\u001b[1;33m\u001b[0m\u001b[1;33m\u001b[0m\u001b[0m\n\u001b[0;32m    122\u001b[0m \u001b[0mgs_svc\u001b[0m\u001b[1;33m=\u001b[0m \u001b[0mGridSearchCV\u001b[0m\u001b[1;33m(\u001b[0m\u001b[0mpipe_svc\u001b[0m\u001b[1;33m,\u001b[0m \u001b[0mpipe_svc_params\u001b[0m\u001b[1;33m,\u001b[0m \u001b[0mcv\u001b[0m\u001b[1;33m=\u001b[0m\u001b[1;36m3\u001b[0m\u001b[1;33m,\u001b[0m \u001b[0mverbose\u001b[0m\u001b[1;33m=\u001b[0m\u001b[1;36m0\u001b[0m\u001b[1;33m)\u001b[0m\u001b[1;33m\u001b[0m\u001b[1;33m\u001b[0m\u001b[0m\n\u001b[1;32m--> 123\u001b[1;33m \u001b[0mgs_xgb\u001b[0m \u001b[1;33m=\u001b[0m \u001b[0mGridSearchCV\u001b[0m\u001b[1;33m(\u001b[0m\u001b[0mpipe_xgb\u001b[0m\u001b[1;33m,\u001b[0m \u001b[0mpipe_xgb_params\u001b[0m\u001b[1;33m,\u001b[0m \u001b[0mcv\u001b[0m \u001b[1;33m=\u001b[0m\u001b[1;36m3\u001b[0m\u001b[1;33m,\u001b[0m \u001b[0mverbose\u001b[0m\u001b[1;33m=\u001b[0m\u001b[1;36m0\u001b[0m\u001b[1;33m)\u001b[0m\u001b[1;33m\u001b[0m\u001b[1;33m\u001b[0m\u001b[0m\n\u001b[0m\u001b[0;32m    124\u001b[0m \u001b[0mgs_gbc\u001b[0m \u001b[1;33m=\u001b[0m \u001b[0mGridSearchCV\u001b[0m\u001b[1;33m(\u001b[0m\u001b[0mpipe_gbc\u001b[0m\u001b[1;33m,\u001b[0m \u001b[0mpipe_gbc_params\u001b[0m\u001b[1;33m,\u001b[0m \u001b[0mcv\u001b[0m \u001b[1;33m=\u001b[0m\u001b[1;36m3\u001b[0m\u001b[1;33m,\u001b[0m \u001b[0mverbose\u001b[0m\u001b[1;33m=\u001b[0m\u001b[1;36m0\u001b[0m\u001b[1;33m)\u001b[0m\u001b[1;33m\u001b[0m\u001b[1;33m\u001b[0m\u001b[0m\n\u001b[0;32m    125\u001b[0m \u001b[0mgs_knn\u001b[0m \u001b[1;33m=\u001b[0m \u001b[0mGridSearchCV\u001b[0m\u001b[1;33m(\u001b[0m\u001b[0mpipe_knn\u001b[0m\u001b[1;33m,\u001b[0m \u001b[0mpipe_knn_params\u001b[0m\u001b[1;33m,\u001b[0m \u001b[0mcv\u001b[0m \u001b[1;33m=\u001b[0m\u001b[1;36m3\u001b[0m\u001b[1;33m,\u001b[0m \u001b[0mverbose\u001b[0m\u001b[1;33m=\u001b[0m\u001b[1;36m0\u001b[0m\u001b[1;33m)\u001b[0m\u001b[1;33m\u001b[0m\u001b[1;33m\u001b[0m\u001b[0m\n",
      "\u001b[1;31mNameError\u001b[0m: name 'pipe_xgb' is not defined"
     ]
    }
   ],
   "source": [
    "# several grid search pipeines to tune over hyper paramaters\n",
    "# grid searching was done using .py scripts with a google cloud  platform virtual machine\n",
    "\n",
    "# PCA and Poly Features were not used in the .py scripts\n",
    "pipe_lr = Pipeline([\n",
    "    ('poly', PolynomialFeatures()),\n",
    "    ('pca', PCA()),\n",
    "    ('lr', LogisticRegression())\n",
    "])\n",
    "pipe_lr_params = {\n",
    "    'poly__interaction_only':[False, True],\n",
    "    'pca__n_components': [5, 10, 25, 50, 75, 100],\n",
    "    'lr__C': [0.001,0.01,1]\n",
    "}\n",
    "# --------------------------------\n",
    "pipe_rf = Pipeline([\n",
    "    ('poly', PolynomialFeatures()),\n",
    "    ('pca', PCA()),\n",
    "    ('rf', RandomForestClassifier())\n",
    "])\n",
    "pipe_rf_params = {\n",
    "    'poly__interaction_only':[False, True],\n",
    "    'pca__n_components': [5, 10, 25, 50, 75, 100],\n",
    "    'rf__n_estimators': [100, 150, 200, 250],\n",
    "    'rf__max_depth': [None, 1, 2, 3, 4, 5],\n",
    "    'rf__min_samples_split': [2, 3, 4, 5],\n",
    "    'rf__min_samples_leaf': [1, 2, 3, 4, 5]\n",
    "}\n",
    "# --------------------------------\n",
    "pipe_svc = Pipeline([\n",
    "    ('poly', PolynomialFeatures()),\n",
    "    ('pca', PCA()),\n",
    "    ('svc', SVC())\n",
    "])\n",
    "pipe_svc_params = {\n",
    "    'poly__interaction_only':[False, True],\n",
    "    'pca__n_components': [5, 10, 25, 50, 75, 100],\n",
    "    'svc__C':np.arange(1, 5, 20),\n",
    "    'svc__kernel':['linear', 'rbf', 'polynomial','sigmoid'],\n",
    "    'svc__degree':[1, 2, 3, 4, 5]\n",
    "}\n",
    "\n",
    "pipe_gbc = Pipeline([\n",
    "    ('poly', PolynomialFeatures()),\n",
    "    ('pca', PCA()),\n",
    "    ('gbc', GradientBoostingClassifier())\n",
    "])\n",
    "pipe_gbc_params = {\n",
    "    'poly__interaction_only':[False, True],\n",
    "    'pca__n_components': [5, 10, 25, 50, 75, 100],\n",
    "    'gbc__loss': ['deviance', 'exponential'],\n",
    "    'gbc__learning_rate': [0.1, 0.01, 0.001],\n",
    "    'gbc__n_estimators': [100, 150, 200, 250],\n",
    "    'gbc__min_samples_split': [2, 3, 4, 5],\n",
    "    'gbc__min_samples_leaf': [1, 2, 3, 4, 5],\n",
    "    'gbc_min_depth': [3, 4, 5, 6]\n",
    "}\n",
    "# --------------------------------\n",
    "pipe_knn = Pipeline([\n",
    "    ('poly', PolynomialFeatures()),\n",
    "    ('pca', PCA()),\n",
    "    ('knn', KNeighborsClassifier())\n",
    "])\n",
    "pipe_knn_params = {\n",
    "    'poly__interaction_only':[False, True],\n",
    "    'pca__n_components': [5, 10, 25, 50, 75, 100],\n",
    "    'knn__n_neighbors': [5, 10, 25, 50, 75, 100],\n",
    "    'knn__weights': ['uniform', 'distance']\n",
    "}\n",
    "# --------------------------------\n",
    "pipe_dec = Pipeline([\n",
    "    ('poly', PolynomialFeatures()),\n",
    "    ('pca', PCA()),\n",
    "    ('dec', DecisionTreeClassifier())\n",
    "])\n",
    "pipe_dec_params = {\n",
    "    'poly__interaction_only':[False, True],\n",
    "    'pca__n_components': [5, 10, 25, 50, 75, 100],\n",
    "    'dec__splitter': ['best', 'random'],\n",
    "    'dec__min_samples_split': [2, 3, 4, 5],\n",
    "    'dec__min_samples_leaf': [1, 2, 3, 4, 5]\n",
    "}\n",
    "# --------------------------------\n",
    "pipe_ext = Pipeline([\n",
    "    ('poly', PolynomialFeatures()),\n",
    "    ('pca', PCA()),\n",
    "    ('ext', ExtraTreesClassifier())\n",
    "])\n",
    "pipe_ext_params = {\n",
    "    'poly__interaction_only':[False, True],\n",
    "    'pca__n_components': [5, 10, 25, 50, 75, 100],\n",
    "    'ext__n_estimators': [100, 150, 200, 250],\n",
    "    'ext__max_depth': [None, 1, 2, 3, 4, 5],\n",
    "    'ext__min_samples_split': [2, 3, 4, 5],\n",
    "    'ext__min_samples_leaf': [1, 2, 3, 4, 5]\n",
    "}\n",
    "# --------------------------------\n",
    "pipe_bag = Pipeline([\n",
    "    ('poly', PolynomialFeatures()),\n",
    "    ('pca', PCA()),\n",
    "    ('bag', BaggingClassifier())\n",
    "])\n",
    "pipe_bag_params = {\n",
    "    'poly__interaction_only':[False, True],\n",
    "    'pca__n_components': [5, 10, 25, 50, 75, 100],\n",
    "    'bag__n_estimators': [10, 15, 20, 25],\n",
    "    'bag__max_samples': [1, 2, 3, 4, 5],\n",
    "    'bag__max_features': [1, 2, 3, 4, 5]\n",
    "}\n",
    "# --------------------------------\n",
    "    \n",
    "gs_lr = GridSearchCV(pipe_lr, pipe_lr_params, cv=3, verbose=0, )\n",
    "gs_rf= GridSearchCV(pipe_rf, pipe_rf_params, cv=3, verbose=0)\n",
    "gs_svc= GridSearchCV(pipe_svc, pipe_svc_params, cv=3, verbose=0)\n",
    "gs_xgb = GridSearchCV(pipe_xgb, pipe_xgb_params, cv =3, verbose=0)\n",
    "gs_gbc = GridSearchCV(pipe_gbc, pipe_gbc_params, cv =3, verbose=0)\n",
    "gs_knn = GridSearchCV(pipe_knn, pipe_knn_params, cv =3, verbose=0)\n",
    "gs_dec = GridSearchCV(pipe_dec, pipe_dec_params, cv =3, verbose=0)\n",
    "gs_ext = GridSearchCV(pipe_ext, pipe_ext_params, cv =3, verbose=0)\n",
    "gs_bag = GridSearchCV(pipe_bag, pipe_bag_params, cv =3, verbose=0)"
   ]
  },
  {
   "cell_type": "code",
   "execution_count": null,
   "metadata": {},
   "outputs": [],
   "source": []
  },
  {
   "cell_type": "markdown",
   "metadata": {},
   "source": [
    "## Taiwan Grid search results\n",
    "\n",
    "\n",
    "- 0.968126710989 {'lr__C': 1}\n",
    "- 0.971059835745 {'rf__max_depth': None, 'rf__min_samples_leaf': 1, 'rf__min_samples_split': 3, 'rf__n_estimators': 150}\n",
    "- 0.971059835745 {'gbc__n_estimators': 200, 'gbc__learning_rate': 0.1, 'gbc__loss': 'exponential', 'gbc__min_samples_leaf': 1, 'gbc__min_samples_split': 2}\n",
    "- 0.970277669144 {'knn__weights': 'distance', 'knn__n_neighbors': 10}\n",
    "- 0.962847086429 {'dec__min_samples_leaf': 4, 'dec__splitter': 'random', 'dec__min_samples_split': 2}\n",
    "- 0.970473210794 {'ext__n_estimators': 150, 'ext__min_samples_split': 2, 'ext__min_samples_leaf': 2, 'ext__max_depth': None}\n",
    "- 0.967735627689 {'bag__max_features': 1, 'bag__max_samples': 1, 'bag__n_estimators': 10}"
   ]
  },
  {
   "cell_type": "markdown",
   "metadata": {},
   "source": [
    "The best preforming models for the taiwanese data was the randoom forest, Gradient Boost Classifier, KNN and Extra Trees and these models were used for the second round of grid searching."
   ]
  },
  {
   "cell_type": "code",
   "execution_count": 16,
   "metadata": {},
   "outputs": [],
   "source": [
    "# SMOTE resamples the data to create more balanced classes, in this case it is bankruptcies vs non bankruptcies\n",
    "smote = SMOTE()\n",
    "\n",
    "X_p, y_p = smote.fit_resample(X_p,y_p)\n",
    "\n",
    "X_t, y_t = smote.fit_resample(X_t,y_t)\n",
    "\n",
    "X_t_train, X_t_test,y_t_train,y_t_test = train_test_split(X_t, y_t, stratify = y_t ,random_state = 9)\n",
    "\n",
    "X_p_train, X_p_test,y_p_train,y_p_test = train_test_split(X_p, y_p, stratify = y_p,random_state = 9)\n",
    "\n",
    "sc = StandardScaler()\n",
    "\n",
    "X_t_train_sc = sc.fit_transform(X_t_train)\n",
    "X_t_test_sc = sc.transform(X_t_test)\n",
    "\n",
    "X_p_train_sc = sc.fit_transform(X_p_train)\n",
    "X_p_test_sc = sc.transform(X_p_test)\n"
   ]
  },
  {
   "cell_type": "markdown",
   "metadata": {},
   "source": [
    "Due to the very unbalanced classes in both datasets, I decided to use SMOTE as a way of resampleing the data to rebalance the classes, and compared the models that used SMOTE vs models that did not"
   ]
  },
  {
   "cell_type": "code",
   "execution_count": 17,
   "metadata": {},
   "outputs": [
    {
     "data": {
      "text/plain": [
       "GridSearchCV(cv=3, estimator=Pipeline(steps=[('rf', RandomForestClassifier())]),\n",
       "             n_jobs=-1,\n",
       "             param_grid={'rf__max_depth': [None, 1, 2],\n",
       "                         'rf__min_samples_leaf': [1, 2, 3],\n",
       "                         'rf__min_samples_split': [2, 3, 4],\n",
       "                         'rf__n_estimators': [137, 133, 135]})"
      ]
     },
     "execution_count": 17,
     "metadata": {},
     "output_type": "execute_result"
    }
   ],
   "source": [
    "pipe_rf = Pipeline([\n",
    "    ('rf', RandomForestClassifier())\n",
    "])\n",
    "pipe_rf_params = {\n",
    "    'rf__n_estimators': [137, 133, 135],\n",
    "    'rf__max_depth': [None, 1, 2],\n",
    "    'rf__min_samples_split': [2, 3, 4],\n",
    "    'rf__min_samples_leaf': [1, 2, 3]\n",
    "}\n",
    "\n",
    "gs_rf= GridSearchCV(pipe_rf, pipe_rf_params, cv=3, verbose=0, n_jobs = -1)\n",
    "gs_rf.fit(X_t_train_sc, y_t_train)"
   ]
  },
  {
   "cell_type": "code",
   "execution_count": 18,
   "metadata": {},
   "outputs": [
    {
     "name": "stdout",
     "output_type": "stream",
     "text": [
      "0.9720152112210312 {'rf__max_depth': None, 'rf__min_samples_leaf': 1, 'rf__min_samples_split': 3, 'rf__n_estimators': 135}\n"
     ]
    }
   ],
   "source": [
    "print(gs_rf.best_score_, gs_rf.best_params_)"
   ]
  },
  {
   "cell_type": "markdown",
   "metadata": {},
   "source": [
    "The SMOTE random forest model, outpreformed the non smote, more so with its hyper parameters further tuned"
   ]
  },
  {
   "cell_type": "code",
   "execution_count": 24,
   "metadata": {},
   "outputs": [
    {
     "data": {
      "image/png": "[encoded data removed]",
      "text/plain": [
       "<Figure size 432x288 with 2 Axes>"
      ]
     },
     "metadata": {
      "needs_background": "light"
     },
     "output_type": "display_data"
    }
   ],
   "source": [
    "# Confusion matrix to show True Positives, True Negatives, False Posatives, False Negatives\n",
    "preds = gs_rf.predict(X_t_test_sc)\n",
    "tn, fp, fn, tp = metrics.confusion_matrix(y_t_test, preds).ravel()\n",
    "metrics.plot_confusion_matrix(gs_rf,X_t_test_sc,y_t_test,cmap='Greens', values_format='d');"
   ]
  },
  {
   "cell_type": "code",
   "execution_count": 25,
   "metadata": {},
   "outputs": [
    {
     "data": {
      "text/plain": [
       "0.9939393939393939"
      ]
     },
     "execution_count": 25,
     "metadata": {},
     "output_type": "execute_result"
    }
   ],
   "source": [
    "# sensativity\n",
    "tp/(tp+fn)"
   ]
  },
  {
   "cell_type": "code",
   "execution_count": 26,
   "metadata": {},
   "outputs": [
    {
     "data": {
      "text/plain": [
       "0.9569696969696969"
      ]
     },
     "execution_count": 26,
     "metadata": {},
     "output_type": "execute_result"
    }
   ],
   "source": [
    "# specificity\n",
    "tn/(fp+tn)"
   ]
  },
  {
   "cell_type": "markdown",
   "metadata": {},
   "source": [
    "Model does a very good job optimizing for sensitivity with 99.39%, but not a good job optimizing for specificity"
   ]
  },
  {
   "cell_type": "code",
   "execution_count": 27,
   "metadata": {},
   "outputs": [
    {
     "name": "stdout",
     "output_type": "stream",
     "text": [
      "0.9808043453633025 {'gbc__learning_rate': 1, 'gbc__loss': 'deviance', 'gbc__min_samples_leaf': 1, 'gbc__min_samples_split': 2, 'gbc__n_estimators': 300}\n"
     ]
    }
   ],
   "source": [
    "pipe_gbc = Pipeline([\n",
    "    ('gbc', GradientBoostingClassifier())\n",
    "])\n",
    "pipe_gbc_params = {\n",
    "    'gbc__loss': ['deviance', 'exponential'],\n",
    "    'gbc__learning_rate': [0.1, 1, 0.5],\n",
    "    'gbc__n_estimators': [200, 250, 300],\n",
    "    'gbc__min_samples_split': [2, 3, 4],\n",
    "    'gbc__min_samples_leaf': [1, 2, 3],\n",
    "}\n",
    "gs_gbc = GridSearchCV(pipe_gbc, pipe_gbc_params, cv =3, verbose=0, n_jobs = -1)\n",
    "gs_gbc.fit(X_t_train_sc, y_t_train)\n",
    "print(gs_gbc.best_score_, gs_gbc.best_params_)"
   ]
  },
  {
   "cell_type": "code",
   "execution_count": 28,
   "metadata": {},
   "outputs": [
    {
     "data": {
      "image/png": "[encoded data removed]",
      "text/plain": [
       "<Figure size 432x288 with 2 Axes>"
      ]
     },
     "metadata": {
      "needs_background": "light"
     },
     "output_type": "display_data"
    }
   ],
   "source": [
    "preds = gs_gbc.predict(X_t_test_sc)\n",
    "tn, fp, fn, tp = metrics.confusion_matrix(y_t_test, preds).ravel()\n",
    "metrics.plot_confusion_matrix(gs_gbc,X_t_test_sc,y_t_test,cmap='Greens', values_format='d');"
   ]
  },
  {
   "cell_type": "code",
   "execution_count": 29,
   "metadata": {},
   "outputs": [
    {
     "data": {
      "text/plain": [
       "0.996969696969697"
      ]
     },
     "execution_count": 29,
     "metadata": {},
     "output_type": "execute_result"
    }
   ],
   "source": [
    "tp/(tp+fn)"
   ]
  },
  {
   "cell_type": "markdown",
   "metadata": {},
   "source": [
    "Similar but better results were seen in the gradient boost classifier"
   ]
  },
  {
   "cell_type": "code",
   "execution_count": 33,
   "metadata": {},
   "outputs": [
    {
     "name": "stdout",
     "output_type": "stream",
     "text": [
      "0.9748441064173105 {'ext__max_depth': None, 'ext__min_samples_leaf': 1, 'ext__min_samples_split': 3, 'ext__n_estimators': 250}\n"
     ]
    }
   ],
   "source": [
    "pipe_ext = Pipeline([\n",
    "    ('ext', ExtraTreesClassifier())\n",
    "])\n",
    "pipe_ext_params = {\n",
    "    'ext__n_estimators': [300, 250, 200],\n",
    "    'ext__max_depth': [None, 1, 2, 3],\n",
    "    'ext__min_samples_split': [2, 3, 4],\n",
    "    'ext__min_samples_leaf': [1, 2, 3,]\n",
    "}\n",
    "gs_ext = GridSearchCV(pipe_ext, pipe_ext_params, cv =3, verbose=0, n_jobs = -1)\n",
    "gs_ext.fit(X_t_train_sc, y_t_train)\n",
    "print(gs_ext.best_score_, gs_ext.best_params_)"
   ]
  },
  {
   "cell_type": "code",
   "execution_count": 34,
   "metadata": {},
   "outputs": [
    {
     "data": {
      "image/png": "[encoded data removed]",
      "text/plain": [
       "<Figure size 432x288 with 2 Axes>"
      ]
     },
     "metadata": {
      "needs_background": "light"
     },
     "output_type": "display_data"
    }
   ],
   "source": [
    "preds = gs_ext.predict(X_t_test_sc)\n",
    "tn, fp, fn, tp = metrics.confusion_matrix(y_t_test, preds).ravel()\n",
    "metrics.plot_confusion_matrix(gs_ext,X_t_test_sc,y_t_test,cmap='Greens', values_format='d');"
   ]
  },
  {
   "cell_type": "code",
   "execution_count": 35,
   "metadata": {},
   "outputs": [
    {
     "data": {
      "text/plain": [
       "0.996969696969697"
      ]
     },
     "execution_count": 35,
     "metadata": {},
     "output_type": "execute_result"
    }
   ],
   "source": [
    "tp/(tp+fn)"
   ]
  },
  {
   "cell_type": "markdown",
   "metadata": {},
   "source": [
    "For the Taiwanese data, the gradient boost classifier had both the best accuracy score and sensitivity score"
   ]
  },
  {
   "cell_type": "markdown",
   "metadata": {},
   "source": [
    "## Poland\n",
    "\n",
    "- 0.977633184221 {'lr__C': 0.001}\n",
    "- 0.978717635895 {'rf__min_samples_split': 3, 'rf__min_samples_leaf': 2, 'rf__n_estimators': 150, 'rf__max_depth': None}\n",
    "- 0.982580994984 {'gbc__n_estimators': 200, 'gbc__min_samples_split': 2, 'gbc__learning_rate': 0.1, 'gbc__min_samples_leaf': 4, 'gbc__loss': 'deviance'}\n",
    "- 0.978514301206 {'knn__weights': 'distance', 'knn__n_neighbors': 75}\n",
    "- 0.975464280873 {'dec__min_samples_leaf': 4, 'dec__splitter': 'best', 'dec__min_samples_split': 3}\n",
    "- 0.978378744747 {'ext__min_samples_leaf': 3, 'ext__max_depth': None, 'ext__min_samples_split': 2, 'ext__n_estimators': 100}\n",
    "- 0.978378744747 {'bag__max_samples': 1, 'bag__n_estimators': 10, 'bag__max_features': 1}"
   ]
  },
  {
   "cell_type": "code",
   "execution_count": 36,
   "metadata": {},
   "outputs": [
    {
     "name": "stdout",
     "output_type": "stream",
     "text": [
      "0.983513438625658 {'rf__max_depth': None, 'rf__min_samples_leaf': 1, 'rf__min_samples_split': 2, 'rf__n_estimators': 137}\n"
     ]
    }
   ],
   "source": [
    "pipe_rf = Pipeline([\n",
    "    ('rf', RandomForestClassifier())\n",
    "])\n",
    "pipe_rf_params = {\n",
    "    'rf__n_estimators': [137, 133, 135],\n",
    "    'rf__max_depth': [None, 1, 2],\n",
    "    'rf__min_samples_split': [2, 3, 4],\n",
    "    'rf__min_samples_leaf': [1, 2, 3]\n",
    "}\n",
    "\n",
    "gs_rf= GridSearchCV(pipe_rf, pipe_rf_params, cv=3, verbose=0, n_jobs = -1)\n",
    "gs_rf.fit(X_p_train_sc, y_p_train)\n",
    "print(gs_rf.best_score_, gs_rf.best_params_)"
   ]
  },
  {
   "cell_type": "code",
   "execution_count": 37,
   "metadata": {},
   "outputs": [
    {
     "data": {
      "image/png": "[encoded data removed]",
      "text/plain": [
       "<Figure size 432x288 with 2 Axes>"
      ]
     },
     "metadata": {
      "needs_background": "light"
     },
     "output_type": "display_data"
    }
   ],
   "source": [
    "preds = gs_rf.predict(X_p_test_sc)\n",
    "tn, fp, fn, tp = metrics.confusion_matrix(y_p_test, preds).ravel()\n",
    "metrics.plot_confusion_matrix(gs_rf,X_p_test_sc,y_p_test,cmap='Greens', values_format='d');"
   ]
  },
  {
   "cell_type": "code",
   "execution_count": 38,
   "metadata": {},
   "outputs": [
    {
     "data": {
      "text/plain": [
       "0.9981296758104738"
      ]
     },
     "execution_count": 38,
     "metadata": {},
     "output_type": "execute_result"
    }
   ],
   "source": [
    "tp/(tp+fn)"
   ]
  },
  {
   "cell_type": "code",
   "execution_count": 39,
   "metadata": {},
   "outputs": [
    {
     "name": "stdout",
     "output_type": "stream",
     "text": [
      "0.991202549182599 {'gbc__learning_rate': 0.5, 'gbc__loss': 'deviance', 'gbc__min_samples_leaf': 3, 'gbc__min_samples_split': 2, 'gbc__n_estimators': 300}\n"
     ]
    }
   ],
   "source": [
    "pipe_gbc = Pipeline([\n",
    "    ('gbc', GradientBoostingClassifier())\n",
    "])\n",
    "pipe_gbc_params = {\n",
    "    'gbc__loss': ['deviance', 'exponential'],\n",
    "    'gbc__learning_rate': [0.1, 1, 0.5],\n",
    "    'gbc__n_estimators': [200, 250, 300],\n",
    "    'gbc__min_samples_split': [2, 3, 4],\n",
    "    'gbc__min_samples_leaf': [1, 2, 3],\n",
    "}\n",
    "gs_gbc = GridSearchCV(pipe_gbc, pipe_gbc_params, cv =3, verbose=0, n_jobs = -1)\n",
    "gs_gbc.fit(X_p_train_sc, y_p_train)\n",
    "print(gs_gbc.best_score_, gs_gbc.best_params_)"
   ]
  },
  {
   "cell_type": "code",
   "execution_count": 40,
   "metadata": {},
   "outputs": [
    {
     "data": {
      "image/png": "[encoded data removed]",
      "text/plain": [
       "<Figure size 432x288 with 2 Axes>"
      ]
     },
     "metadata": {
      "needs_background": "light"
     },
     "output_type": "display_data"
    }
   ],
   "source": [
    "preds = gs_gbc.predict(X_p_test_sc)\n",
    "tn, fp, fn, tp = metrics.confusion_matrix(y_p_test, preds).ravel()\n",
    "metrics.plot_confusion_matrix(gs_gbc,X_p_test_sc,y_p_test,cmap='Greens', values_format='d');"
   ]
  },
  {
   "cell_type": "code",
   "execution_count": 41,
   "metadata": {},
   "outputs": [
    {
     "data": {
      "text/plain": [
       "0.9981296758104738"
      ]
     },
     "execution_count": 41,
     "metadata": {},
     "output_type": "execute_result"
    }
   ],
   "source": [
    "tp/(tp+fn)"
   ]
  },
  {
   "cell_type": "code",
   "execution_count": 42,
   "metadata": {},
   "outputs": [
    {
     "name": "stdout",
     "output_type": "stream",
     "text": [
      "0.985453034081463 {'ext__max_depth': None, 'ext__min_samples_leaf': 1, 'ext__min_samples_split': 2, 'ext__n_estimators': 300}\n"
     ]
    }
   ],
   "source": [
    "pipe_ext = Pipeline([\n",
    "    ('ext', ExtraTreesClassifier())\n",
    "])\n",
    "pipe_ext_params = {\n",
    "    'ext__n_estimators': [300, 250, 200],\n",
    "    'ext__max_depth': [None, 1, 2, 3],\n",
    "    'ext__min_samples_split': [2, 3, 4],\n",
    "    'ext__min_samples_leaf': [1, 2, 3,]\n",
    "}\n",
    "gs_ext = GridSearchCV(pipe_ext, pipe_ext_params, cv =3, verbose=0, n_jobs = -1)\n",
    "gs_ext.fit(X_p_train_sc, y_p_train)\n",
    "print(gs_ext.best_score_, gs_ext.best_params_)"
   ]
  },
  {
   "cell_type": "code",
   "execution_count": 43,
   "metadata": {
    "scrolled": true
   },
   "outputs": [
    {
     "data": {
      "image/png": "[encoded data removed]",
      "text/plain": [
       "<Figure size 432x288 with 2 Axes>"
      ]
     },
     "metadata": {
      "needs_background": "light"
     },
     "output_type": "display_data"
    }
   ],
   "source": [
    "preds = gs_ext.predict(X_p_test_sc)\n",
    "tn, fp, fn, tp = metrics.confusion_matrix(y_p_test, preds).ravel()\n",
    "metrics.plot_confusion_matrix(gs_ext,X_p_test_sc,y_p_test,cmap='Greens', values_format='d');"
   ]
  },
  {
   "cell_type": "code",
   "execution_count": 44,
   "metadata": {},
   "outputs": [
    {
     "data": {
      "text/plain": [
       "0.9975062344139651"
      ]
     },
     "execution_count": 44,
     "metadata": {},
     "output_type": "execute_result"
    }
   ],
   "source": [
    "tp/(tp+fn)"
   ]
  },
  {
   "cell_type": "markdown",
   "metadata": {},
   "source": [
    "Similar results were observed with the polish data, as the gradient booost classifier also had the best accuracy score and the best sensativity scores"
   ]
  },
  {
   "cell_type": "markdown",
   "metadata": {},
   "source": [
    "### Neural Network"
   ]
  },
  {
   "cell_type": "code",
   "execution_count": 8,
   "metadata": {},
   "outputs": [],
   "source": [
    "# function to create a neural network, with the ability to change different paramaters\n",
    "def model_func_deep( X_train, hidden_layers = 3, hidden_neurons = 8, dropout = None):\n",
    "    model = Sequential()\n",
    "\n",
    "    for layer in range(hidden_layers):\n",
    "        if layer == 0:\n",
    "            model.add(Dense(hidden_neurons, activation = 'relu', input_shape = X_train[0].shape))\n",
    "        else:\n",
    "            model.add(Dense(hidden_neurons, activation = 'relu'))\n",
    "\n",
    "        if dropout != None:\n",
    "            model.add(Dropout(dropout))\n",
    "    \n",
    "    model.add(Dense(1, activation = 'sigmoid'))\n",
    "\n",
    "    model.compile(loss = 'bce', optimizer = 'adam', metrics= 'acc')\n",
    "\n",
    "    return model"
   ]
  },
  {
   "cell_type": "code",
   "execution_count": 19,
   "metadata": {},
   "outputs": [],
   "source": [
    "poland_nn = model_func_deep(X_train= X_p_train_sc)"
   ]
  },
  {
   "cell_type": "code",
   "execution_count": 21,
   "metadata": {},
   "outputs": [],
   "source": [
    "results = poland_nn.fit(X_p_train_sc, y_p_train, validation_data = (X_p_test_sc, y_p_test),\n",
    "                          epochs = 100, batch_size = 256,\n",
    "                          verbose = 0)"
   ]
  },
  {
   "cell_type": "code",
   "execution_count": 22,
   "metadata": {},
   "outputs": [
    {
     "data": {
      "text/plain": [
       "(0.9819031953811646, 0.978044331073761)"
      ]
     },
     "execution_count": 22,
     "metadata": {},
     "output_type": "execute_result"
    }
   ],
   "source": [
    "results.history['acc'][-1], results.history['val_acc'][-1]"
   ]
  },
  {
   "cell_type": "code",
   "execution_count": 9,
   "metadata": {},
   "outputs": [],
   "source": [
    "taiwan_nn =  model_func_deep(X_train= X_t_train_sc)"
   ]
  },
  {
   "cell_type": "code",
   "execution_count": 11,
   "metadata": {},
   "outputs": [],
   "source": [
    "results = taiwan_nn.fit(X_t_train_sc, y_t_train, validation_data = (X_t_test_sc, y_t_test),\n",
    "                          epochs = 100, batch_size = 256,\n",
    "                          verbose = 0)"
   ]
  },
  {
   "cell_type": "code",
   "execution_count": 12,
   "metadata": {},
   "outputs": [
    {
     "data": {
      "text/plain": [
       "(0.9790770411491394, 0.9642228484153748)"
      ]
     },
     "execution_count": 12,
     "metadata": {},
     "output_type": "execute_result"
    }
   ],
   "source": [
    "results.history['acc'][-1], results.history['val_acc'][-1]"
   ]
  },
  {
   "cell_type": "markdown",
   "metadata": {},
   "source": [
    "The neural network had similar scores to the grid search models"
   ]
  },
  {
   "cell_type": "markdown",
   "metadata": {},
   "source": [
    "## Neural Network With SMOTE"
   ]
  },
  {
   "cell_type": "code",
   "execution_count": 16,
   "metadata": {},
   "outputs": [],
   "source": [
    "smote = SMOTE(sampling_strategy='minority')\n",
    "\n",
    "X_p, y_p = smote.fit_resample(X_p,y_p)\n",
    "\n",
    "X_t, y_t = smote.fit_resample(X_t,y_t)\n",
    "\n",
    "X_t_train, X_t_test,y_t_train,y_t_test = train_test_split(X_t, y_t, stratify = y_t ,random_state = 9)\n",
    "\n",
    "X_p_train, X_p_test,y_p_train,y_p_test = train_test_split(X_p, y_p, stratify = y_p,random_state = 9)\n",
    "\n",
    "sc = StandardScaler()\n",
    "\n",
    "X_t_train_sc = sc.fit_transform(X_t_train)\n",
    "X_t_test_sc = sc.transform(X_t_test)\n",
    "\n",
    "X_p_train_sc = sc.fit_transform(X_p_train)\n",
    "X_p_test_sc = sc.transform(X_p_test)\n"
   ]
  },
  {
   "cell_type": "code",
   "execution_count": 19,
   "metadata": {},
   "outputs": [
    {
     "data": {
      "text/plain": [
       "(0.965433657169342, 0.9618661403656006)"
      ]
     },
     "execution_count": 19,
     "metadata": {},
     "output_type": "execute_result"
    }
   ],
   "source": [
    "poland_nn_smote = model_func_deep(X_train= X_p_train_sc)\n",
    "\n",
    "results_p = poland_nn_smote.fit(X_p_train_sc, y_p_train, validation_data = (X_p_test_sc, y_p_test),\n",
    "                          epochs = 100, batch_size = 256,\n",
    "                          verbose = 0)\n",
    "\n",
    "results_p.history['acc'][-1], results_p.history['val_acc'][-1]"
   ]
  },
  {
   "cell_type": "code",
   "execution_count": 20,
   "metadata": {},
   "outputs": [
    {
     "data": {
      "text/plain": [
       "(0.9899979829788208, 0.9690909385681152)"
      ]
     },
     "execution_count": 20,
     "metadata": {},
     "output_type": "execute_result"
    }
   ],
   "source": [
    "taiwan_nn_smote =  model_func_deep(X_train= X_t_train_sc)\n",
    "\n",
    "results_t = taiwan_nn_smote.fit(X_t_train_sc, y_t_train, validation_data = (X_t_test_sc, y_t_test),\n",
    "                          epochs = 100, batch_size = 256,\n",
    "                          verbose = 0)\n",
    "results_t.history['acc'][-1], results_t.history['val_acc'][-1]"
   ]
  },
  {
   "cell_type": "code",
   "execution_count": 45,
   "metadata": {},
   "outputs": [],
   "source": [
    "\n",
    "\n",
    "def model_func_deep( X_train = X_t_train_sc, hidden_layers = 3, hidden_neurons = 8, dropout = None):\n",
    "    model = Sequential()\n",
    "\n",
    "    for layer in range(hidden_layers):\n",
    "        if layer == 0:\n",
    "            model.add(Dense(hidden_neurons, activation = 'relu', input_shape = X_train[0].shape))\n",
    "        else:\n",
    "            model.add(Dense(hidden_neurons, activation = 'relu'))\n",
    "\n",
    "        if dropout != None:\n",
    "            model.add(Dropout(dropout))\n",
    "    \n",
    "    model.add(Dense(1, activation = 'sigmoid'))\n",
    "\n",
    "    model.compile(loss = 'bce', optimizer = 'adam', metrics= 'acc')\n",
    "\n",
    "    return model"
   ]
  },
  {
   "cell_type": "code",
   "execution_count": 46,
   "metadata": {},
   "outputs": [
    {
     "name": "stdout",
     "output_type": "stream",
     "text": [
      "0.9866641163825989\n",
      "{'dropout': 0.2, 'epochs': 100, 'hidden_layers': 2, 'hidden_neurons': 128}\n"
     ]
    }
   ],
   "source": [
    "# grid search that uses the neural network function to tune paramaters\n",
    "nn = KerasClassifier(model_func_deep,epochs = 10, batch_size = 512, verbose = 0)\n",
    "\n",
    "params = {\n",
    "    'hidden_neurons' : [32,64,128],\n",
    "    'hidden_layers' : [2, 3, 5],\n",
    "    'dropout'  : [None, 0.1, 0.2, 0.5],\n",
    "    'epochs' : [50, 100]\n",
    "}\n",
    "\n",
    "gs_nn = GridSearchCV(estimator = nn, param_grid = params, cv = 3)\n",
    "\n",
    "gs_nn.fit(X_t_train_sc, y_t_train)\n",
    "print(gs_nn.best_score_)\n",
    "print(gs_nn.best_params_)"
   ]
  },
  {
   "cell_type": "code",
   "execution_count": null,
   "metadata": {},
   "outputs": [],
   "source": [
    "gs_nn.predict(X)"
   ]
  },
  {
   "cell_type": "code",
   "execution_count": 49,
   "metadata": {},
   "outputs": [],
   "source": [
    "preds = gs_nn.predict(X_t_test_sc)\n",
    "tn, fp, fn, tp = metrics.confusion_matrix(y_t_test, preds).ravel()\n"
   ]
  },
  {
   "cell_type": "code",
   "execution_count": 50,
   "metadata": {},
   "outputs": [
    {
     "data": {
      "text/plain": [
       "0.9993939393939394"
      ]
     },
     "execution_count": 50,
     "metadata": {},
     "output_type": "execute_result"
    }
   ],
   "source": [
    "tp/(tp+fn)"
   ]
  },
  {
   "cell_type": "code",
   "execution_count": 51,
   "metadata": {},
   "outputs": [
    {
     "data": {
      "text/plain": [
       "1649"
      ]
     },
     "execution_count": 51,
     "metadata": {},
     "output_type": "execute_result"
    }
   ],
   "source": [
    "tp"
   ]
  },
  {
   "cell_type": "code",
   "execution_count": 52,
   "metadata": {},
   "outputs": [
    {
     "data": {
      "text/plain": [
       "1"
      ]
     },
     "execution_count": 52,
     "metadata": {},
     "output_type": "execute_result"
    }
   ],
   "source": [
    "fn"
   ]
  },
  {
   "cell_type": "markdown",
   "metadata": {},
   "source": [
    "The tuned nn model had the best sensativity score of all the models, with only 1 false negative miss classification"
   ]
  },
  {
   "cell_type": "code",
   "execution_count": 53,
   "metadata": {},
   "outputs": [
    {
     "name": "stdout",
     "output_type": "stream",
     "text": [
      "0.9550429582595825\n",
      "{'dropout': None, 'epochs': 20, 'hidden_layers': 5, 'hidden_neurons': 32}\n"
     ]
    }
   ],
   "source": [
    "def model_func_deep( X_train = X_p_train_sc, hidden_layers = 3, hidden_neurons = 8, dropout = None):\n",
    "    model = Sequential()\n",
    "\n",
    "    for layer in range(hidden_layers):\n",
    "        if layer == 0:\n",
    "            model.add(Dense(hidden_neurons, activation = 'relu', input_shape = X_train[0].shape))\n",
    "        else:\n",
    "            model.add(Dense(hidden_neurons, activation = 'relu'))\n",
    "\n",
    "        if dropout != None:\n",
    "            model.add(Dropout(dropout))\n",
    "    \n",
    "    model.add(Dense(1, activation = 'sigmoid'))\n",
    "\n",
    "    model.compile(loss = 'bce', optimizer = 'adam', metrics= 'acc')\n",
    "\n",
    "    return model\n",
    "\n",
    "nn = KerasClassifier(model_func_deep,epochs = 10, batch_size = 512, verbose = 0)\n",
    "\n",
    "params = {\n",
    "    'hidden_neurons' : [8, 16, 32],\n",
    "    'hidden_layers' : [2, 3, 5],\n",
    "    'dropout'  : [None, 0.1, 0.2, 0.5],\n",
    "    'epochs' : [10, 20],\n",
    "}\n",
    "\n",
    "gs_nn = GridSearchCV(estimator = nn, param_grid = params, cv = 3)\n",
    "\n",
    "gs_nn.fit(X_p_train_sc, y_p_train)\n",
    "print(gs_nn.best_score_)\n",
    "print(gs_nn.best_params_)"
   ]
  },
  {
   "cell_type": "code",
   "execution_count": 54,
   "metadata": {},
   "outputs": [],
   "source": [
    "preds = gs_nn.predict(X_p_test_sc)\n",
    "tn, fp, fn, tp = metrics.confusion_matrix(y_p_test, preds).ravel()"
   ]
  },
  {
   "cell_type": "code",
   "execution_count": 55,
   "metadata": {},
   "outputs": [
    {
     "data": {
      "text/plain": [
       "0.9898171238570241"
      ]
     },
     "execution_count": 55,
     "metadata": {},
     "output_type": "execute_result"
    }
   ],
   "source": [
    "tp/(tp+fn)"
   ]
  },
  {
   "cell_type": "code",
   "execution_count": 56,
   "metadata": {},
   "outputs": [
    {
     "data": {
      "text/plain": [
       "4763"
      ]
     },
     "execution_count": 56,
     "metadata": {},
     "output_type": "execute_result"
    }
   ],
   "source": [
    "tp"
   ]
  },
  {
   "cell_type": "code",
   "execution_count": 57,
   "metadata": {
    "scrolled": true
   },
   "outputs": [
    {
     "data": {
      "text/plain": [
       "49"
      ]
     },
     "execution_count": 57,
     "metadata": {},
     "output_type": "execute_result"
    }
   ],
   "source": [
    "fn"
   ]
  },
  {
   "cell_type": "markdown",
   "metadata": {},
   "source": [
    "The nn preformed the poorest than any of the other models, when using the taiwan data. As a result the gradient boost classifier was chosen as the final model due to it having the best overall accuracy and sensativity scores with both data"
   ]
  },
  {
   "cell_type": "markdown",
   "metadata": {},
   "source": [
    "## With only Finance Data"
   ]
  },
  {
   "cell_type": "markdown",
   "metadata": {},
   "source": [
    "As found in my research, the financial situation of a firm is one of the key predictors of whether or not a company will go bankrupt or not, and as a result I decided to run the final model on the polish and taiwanese data, with only their key financiial features"
   ]
  },
  {
   "cell_type": "code",
   "execution_count": 58,
   "metadata": {},
   "outputs": [],
   "source": [
    "p_finance = pd.read_csv('data/poland_finance.csv')\n",
    "\n",
    "t_finance = pd.read_csv('data/taiwan_finance.csv')"
   ]
  },
  {
   "cell_type": "code",
   "execution_count": 59,
   "metadata": {},
   "outputs": [],
   "source": [
    "X_t = t_finance.drop(columns= ['Bankrupt?'])\n",
    "y_t = t_finance['Bankrupt?']\n",
    "\n",
    "X_p = p_finance.drop(columns= ['Bankrupt'])\n",
    "y_p = p_finance['Bankrupt']\n"
   ]
  },
  {
   "cell_type": "code",
   "execution_count": 60,
   "metadata": {},
   "outputs": [],
   "source": [
    "smote = SMOTE(sampling_strategy='minority')\n",
    "\n",
    "X_p, y_p = smote.fit_resample(X_p,y_p)\n",
    "\n",
    "X_t, y_t = smote.fit_resample(X_t,y_t)\n",
    "\n",
    "X_t_train, X_t_test,y_t_train,y_t_test = train_test_split(X_t, y_t, stratify = y_t ,random_state = 9)\n",
    "\n",
    "X_p_train, X_p_test,y_p_train,y_p_test = train_test_split(X_p, y_p, stratify = y_p,random_state = 9)\n",
    "\n",
    "sc = StandardScaler()\n",
    "\n",
    "X_t_train_sc = sc.fit_transform(X_t_train)\n",
    "X_t_test_sc = sc.transform(X_t_test)\n",
    "\n",
    "X_p_train_sc = sc.fit_transform(X_p_train)\n",
    "X_p_test_sc = sc.transform(X_p_test)\n"
   ]
  },
  {
   "cell_type": "markdown",
   "metadata": {},
   "source": [
    "#### Poland Finance"
   ]
  },
  {
   "cell_type": "code",
   "execution_count": 61,
   "metadata": {},
   "outputs": [
    {
     "name": "stdout",
     "output_type": "stream",
     "text": [
      "0.9990648379052369 {'gbc__learning_rate': 0.5, 'gbc__loss': 'exponential', 'gbc__min_samples_leaf': 2, 'gbc__min_samples_split': 2, 'gbc__n_estimators': 300}\n"
     ]
    }
   ],
   "source": [
    "pipe_gbc = Pipeline([\n",
    "    ('gbc', GradientBoostingClassifier())\n",
    "])\n",
    "pipe_gbc_params = {\n",
    "    'gbc__loss': ['deviance', 'exponential'],\n",
    "    'gbc__learning_rate': [0.1, 1, 0.5],\n",
    "    'gbc__n_estimators': [200, 250, 300],\n",
    "    'gbc__min_samples_split': [2, 3, 4],\n",
    "    'gbc__min_samples_leaf': [1, 2, 3],\n",
    "}\n",
    "gs_gbc = GridSearchCV(pipe_gbc, pipe_gbc_params, cv =3, verbose=0, n_jobs = -1)\n",
    "gs_gbc.fit(X_p_train_sc, y_p_train)\n",
    "print(gs_gbc.best_score_, gs_gbc.best_params_)"
   ]
  },
  {
   "cell_type": "code",
   "execution_count": 62,
   "metadata": {},
   "outputs": [
    {
     "data": {
      "image/png": "[encoded data removed]",
      "text/plain": [
       "<Figure size 432x288 with 2 Axes>"
      ]
     },
     "metadata": {
      "needs_background": "light"
     },
     "output_type": "display_data"
    }
   ],
   "source": [
    "preds = gs_gbc.predict(X_p_test_sc)\n",
    "tn, fp, fn, tp = metrics.confusion_matrix(y_p_test, preds).ravel()\n",
    "metrics.plot_confusion_matrix(gs_gbc,X_p_test_sc,y_p_test,cmap='Greens', values_format='d');"
   ]
  },
  {
   "cell_type": "code",
   "execution_count": 63,
   "metadata": {},
   "outputs": [
    {
     "data": {
      "text/plain": [
       "0.9989609310058188"
      ]
     },
     "execution_count": 63,
     "metadata": {},
     "output_type": "execute_result"
    }
   ],
   "source": [
    "tp/(tp+fn)"
   ]
  },
  {
   "cell_type": "markdown",
   "metadata": {},
   "source": [
    "#### Taiwan Finance"
   ]
  },
  {
   "cell_type": "code",
   "execution_count": 64,
   "metadata": {},
   "outputs": [
    {
     "name": "stdout",
     "output_type": "stream",
     "text": [
      "0.9756519422781927 {'gbc__learning_rate': 1, 'gbc__loss': 'exponential', 'gbc__min_samples_leaf': 1, 'gbc__min_samples_split': 4, 'gbc__n_estimators': 300}\n"
     ]
    }
   ],
   "source": [
    "pipe_gbc = Pipeline([\n",
    "    ('gbc', GradientBoostingClassifier())\n",
    "])\n",
    "pipe_gbc_params = {\n",
    "    'gbc__loss': ['deviance', 'exponential'],\n",
    "    'gbc__learning_rate': [0.1, 1, 0.5],\n",
    "    'gbc__n_estimators': [200, 250, 300],\n",
    "    'gbc__min_samples_split': [2, 3, 4],\n",
    "    'gbc__min_samples_leaf': [1, 2, 3],\n",
    "}\n",
    "gs_gbc = GridSearchCV(pipe_gbc, pipe_gbc_params, cv =3, verbose=0, n_jobs = 4)\n",
    "gs_gbc.fit(X_t_train_sc, y_t_train)\n",
    "print(gs_gbc.best_score_, gs_gbc.best_params_)"
   ]
  },
  {
   "cell_type": "code",
   "execution_count": 65,
   "metadata": {},
   "outputs": [
    {
     "data": {
      "image/png": "[encoded data removed]",
      "text/plain": [
       "<Figure size 432x288 with 2 Axes>"
      ]
     },
     "metadata": {
      "needs_background": "light"
     },
     "output_type": "display_data"
    }
   ],
   "source": [
    "preds = gs_gbc.predict(X_t_test_sc)\n",
    "tn, fp, fn, tp = metrics.confusion_matrix(y_t_test, preds).ravel()\n",
    "metrics.plot_confusion_matrix(gs_gbc,X_t_test_sc,y_t_test,cmap='Greens', values_format='d');"
   ]
  },
  {
   "cell_type": "code",
   "execution_count": 66,
   "metadata": {},
   "outputs": [
    {
     "data": {
      "text/plain": [
       "0.9945454545454545"
      ]
     },
     "execution_count": 66,
     "metadata": {},
     "output_type": "execute_result"
    }
   ],
   "source": [
    "tp/(tp+fn)"
   ]
  },
  {
   "cell_type": "markdown",
   "metadata": {},
   "source": [
    "Both models preformed extremely well with the gradient boost classifier model and preformed better than the data with all of the features, particularly with their sensativity scores , with only 5 and 9 false negative miss classifications for the polish and taiwanese data respectively"
   ]
  },
  {
   "cell_type": "markdown",
   "metadata": {},
   "source": [
    "# Conclusions"
   ]
  },
  {
   "cell_type": "markdown",
   "metadata": {},
   "source": [
    "What I learned from this project was that using a machine learning model, we can accurately predict bankruptcies, while also reducing the risk of providing potential dangerous information and that a lot of what can affect the possibility of a company going bankrupt is dependent on harder to quantify metrics and events outside of a company’s control, such as changes in the market/industry, pandemics and lockdown protocols and difficulties caused by the business cycle such as recessions and depressions.\n"
   ]
  },
  {
   "cell_type": "markdown",
   "metadata": {},
   "source": [
    "# Recommendations "
   ]
  },
  {
   "cell_type": "markdown",
   "metadata": {},
   "source": [
    "Since this project focuses on only corporate bankruptcies, my recommendations only focus on solutions for businesses. There are several ways to for a company to mitigate the risk of impending bankruptcy. These include paying the minimum amount possible to your creditors, cut any unnecessary or secondary spending, determine your minimum cost level that you can still operate at a profit from, re-negotiate what you can such as contracts with suppliers or company insurance, find ways to create short term cash flow to help fill immediate monetary needs, establish a long term business plan to get out of debt, utilize any tax loopholes/ reforms that you can to reduce spending, and seek the aid of a financial advisor, who can help you achieve many of these goals.\n"
   ]
  },
  {
   "cell_type": "markdown",
   "metadata": {},
   "source": [
    "# Sources:\n",
    "\n",
    "https://smallbusiness.chron.com/avoid-business-bankruptcy-248.html\n",
    "https://www.fosterswift.com/communications-avoid-bankruptcy-build-strong-business.html"
   ]
  },
  {
   "cell_type": "code",
   "execution_count": null,
   "metadata": {},
   "outputs": [],
   "source": []
  }
 ],
 "metadata": {
  "kernelspec": {
   "display_name": "Python 3",
   "language": "python",
   "name": "python3"
  },
  "language_info": {
   "codemirror_mode": {
    "name": "ipython",
    "version": 3
   },
   "file_extension": ".py",
   "mimetype": "text/x-python",
   "name": "python",
   "nbconvert_exporter": "python",
   "pygments_lexer": "ipython3",
   "version": "3.8.5"
  }
 },
 "nbformat": 4,
 "nbformat_minor": 4
}
